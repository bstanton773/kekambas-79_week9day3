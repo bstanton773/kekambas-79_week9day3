{
 "cells": [
  {
   "cell_type": "code",
   "execution_count": null,
   "metadata": {},
   "outputs": [],
   "source": [
    "# The question asks the following: Write a function that takes an integer flight_length#  (in minutes) \n",
    "# and a list of integers movie_lengths (in minutes) and returns a boolean\n",
    "#  indicating whether there are two numbers in movie_lengths whose sum equals flight_length.\n",
    "# movie_lengths1=[20, 30, 110, 40, 50] #true\n",
    "# movie_lengths2=[80, 110, 40]  #false\n",
    "# flight_length=160"
   ]
  },
  {
   "cell_type": "code",
   "execution_count": 5,
   "metadata": {},
   "outputs": [
    {
     "data": {
      "text/plain": [
       "True"
      ]
     },
     "execution_count": 5,
     "metadata": {},
     "output_type": "execute_result"
    }
   ],
   "source": [
    "def two_movies(flight_length, movie_lengths):\n",
    "    set_movies = set()\n",
    "    for movie in movie_lengths:\n",
    "        if flight_length - movie in set_movies:\n",
    "            return True\n",
    "        set_movies.add(movie)\n",
    "    return False\n",
    "\n",
    "\n",
    "two_movies(160, [20, 30, 110, 40, 50])"
   ]
  },
  {
   "cell_type": "code",
   "execution_count": 6,
   "metadata": {},
   "outputs": [
    {
     "data": {
      "text/plain": [
       "False"
      ]
     },
     "execution_count": 6,
     "metadata": {},
     "output_type": "execute_result"
    }
   ],
   "source": [
    "two_movies(160, [80, 110, 40])"
   ]
  },
  {
   "cell_type": "code",
   "execution_count": null,
   "metadata": {},
   "outputs": [],
   "source": []
  }
 ],
 "metadata": {
  "kernelspec": {
   "display_name": "Python 3",
   "language": "python",
   "name": "python3"
  },
  "language_info": {
   "codemirror_mode": {
    "name": "ipython",
    "version": 3
   },
   "file_extension": ".py",
   "mimetype": "text/x-python",
   "name": "python",
   "nbconvert_exporter": "python",
   "pygments_lexer": "ipython3",
   "version": "3.8.5"
  }
 },
 "nbformat": 4,
 "nbformat_minor": 4
}
